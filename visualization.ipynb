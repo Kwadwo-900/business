{
 "cells": [
  {
   "cell_type": "code",
   "execution_count": 1,
   "metadata": {},
   "outputs": [],
   "source": [
    "import pandas as pd \n",
    "import seaborn as sns\n",
    "import matplotlib.pyplot as plt"
   ]
  },
  {
   "cell_type": "code",
   "execution_count": 2,
   "metadata": {},
   "outputs": [
    {
     "data": {
      "application/vnd.microsoft.datawrangler.viewer.v0+json": {
       "columns": [
        {
         "name": "index",
         "rawType": "int64",
         "type": "integer"
        },
        {
         "name": "Address Street",
         "rawType": "object",
         "type": "string"
        },
        {
         "name": "Address City",
         "rawType": "object",
         "type": "string"
        },
        {
         "name": "Address Postcode",
         "rawType": "object",
         "type": "string"
        },
        {
         "name": "Age (Years)",
         "rawType": "int64",
         "type": "integer"
        },
        {
         "name": "Distance Commuted to Work (Km)",
         "rawType": "float64",
         "type": "float"
        },
        {
         "name": "Employer Company",
         "rawType": "object",
         "type": "unknown"
        },
        {
         "name": "Credit Card Start Date",
         "rawType": "object",
         "type": "string"
        },
        {
         "name": "Credit Card Expiry Date",
         "rawType": "object",
         "type": "string"
        },
        {
         "name": "Credit Card Number",
         "rawType": "int64",
         "type": "integer"
        },
        {
         "name": "Credit Card CVV",
         "rawType": "int64",
         "type": "integer"
        },
        {
         "name": "Dependants",
         "rawType": "float64",
         "type": "float"
        },
        {
         "name": "First Name",
         "rawType": "object",
         "type": "string"
        },
        {
         "name": "Bank IBAN",
         "rawType": "object",
         "type": "string"
        },
        {
         "name": "Last Name",
         "rawType": "object",
         "type": "string"
        },
        {
         "name": "Marital Status",
         "rawType": "object",
         "type": "string"
        },
        {
         "name": "Yearly Pension (Dollar)",
         "rawType": "int64",
         "type": "integer"
        },
        {
         "name": "Retired",
         "rawType": "bool",
         "type": "boolean"
        },
        {
         "name": "Yearly Salary (Dollar)",
         "rawType": "int64",
         "type": "integer"
        },
        {
         "name": "Sex",
         "rawType": "object",
         "type": "string"
        },
        {
         "name": "Vehicle Make",
         "rawType": "object",
         "type": "string"
        },
        {
         "name": "Vehicle Model",
         "rawType": "object",
         "type": "string"
        },
        {
         "name": "Vehicle Year",
         "rawType": "int64",
         "type": "integer"
        },
        {
         "name": "Vehicle Type",
         "rawType": "object",
         "type": "string"
        }
       ],
       "conversionMethod": "pd.DataFrame",
       "ref": "61a66a1b-05b6-4d11-a0b9-0f3ede2a3b4c",
       "rows": [
        [
         "0",
         "70 Lydia isle",
         "Lake Conor",
         "S71 7XZ",
         "89",
         "0.0",
         null,
         "08/18",
         "11/27",
         "676373692463",
         "875",
         "3.0",
         "Kieran",
         "GB62PQKB71416034141571",
         "Wilson",
         "married or civil partner",
         "7257",
         "True",
         "72838",
         "Male",
         "Hyundai",
         "Bonneville",
         "2009",
         "Pickup"
        ],
        [
         "1",
         "00 Wheeler wells",
         "Chapmanton",
         "L2 7BT",
         "46",
         "13.72",
         "Begum-Williams",
         "08/12",
         "11/26",
         "4529436854129855",
         "583",
         "1.0",
         "Jonathan",
         "GB37UMCO54540228728019",
         "Thomas",
         "married or civil partner",
         "0",
         "False",
         "54016",
         "Male",
         "Nissan",
         "ATS",
         "1996",
         "Coupe"
        ],
        [
         "2",
         "Studio 33K Joel walk",
         "Randallborough",
         "ME3N 1GH",
         "22",
         "16.02",
         "Hill-Wright",
         "11/19",
         "07/27",
         "4091726363083888495",
         "422",
         "1.0",
         "Antony",
         "GB40CVUE84011545859591",
         "Jones",
         "married or civil partner",
         "0",
         "False",
         "68049",
         "Male",
         "GMC",
         "Achieva",
         "2015",
         "Convertible, Coupe"
        ],
        [
         "3",
         "Studio 46S Bethany lights",
         "East Reece",
         "E10 9RJ",
         "56",
         "19.35",
         "Green LLC",
         "10/17",
         "04/18",
         "4671332769487632633",
         "669",
         "2.0",
         "Henry",
         "GB40YPKK71613332239280",
         "Shaw",
         "married or civil partner",
         "0",
         "False",
         "91337",
         "Male",
         "Scion",
         "F150 SuperCrew Cab",
         "1994",
         "Pickup"
        ],
        [
         "4",
         "Flat 3 Christine views",
         "Fletcherstad",
         "WS2 9SN",
         "57",
         "5.94",
         "Hill, Evans and Harrison",
         "04/19",
         "11/27",
         "2245094149128526",
         "659",
         "2.0",
         "Jodie",
         "GB95WAYW31715898077181",
         "O'Brien",
         "married or civil partner",
         "0",
         "False",
         "18446",
         "Female",
         "Buick",
         "Outback",
         "2020",
         "SUV"
        ]
       ],
       "shape": {
        "columns": 23,
        "rows": 5
       }
      },
      "text/html": [
       "<div>\n",
       "<style scoped>\n",
       "    .dataframe tbody tr th:only-of-type {\n",
       "        vertical-align: middle;\n",
       "    }\n",
       "\n",
       "    .dataframe tbody tr th {\n",
       "        vertical-align: top;\n",
       "    }\n",
       "\n",
       "    .dataframe thead th {\n",
       "        text-align: right;\n",
       "    }\n",
       "</style>\n",
       "<table border=\"1\" class=\"dataframe\">\n",
       "  <thead>\n",
       "    <tr style=\"text-align: right;\">\n",
       "      <th></th>\n",
       "      <th>Address Street</th>\n",
       "      <th>Address City</th>\n",
       "      <th>Address Postcode</th>\n",
       "      <th>Age (Years)</th>\n",
       "      <th>Distance Commuted to Work (Km)</th>\n",
       "      <th>Employer Company</th>\n",
       "      <th>Credit Card Start Date</th>\n",
       "      <th>Credit Card Expiry Date</th>\n",
       "      <th>Credit Card Number</th>\n",
       "      <th>Credit Card CVV</th>\n",
       "      <th>...</th>\n",
       "      <th>Last Name</th>\n",
       "      <th>Marital Status</th>\n",
       "      <th>Yearly Pension (Dollar)</th>\n",
       "      <th>Retired</th>\n",
       "      <th>Yearly Salary (Dollar)</th>\n",
       "      <th>Sex</th>\n",
       "      <th>Vehicle Make</th>\n",
       "      <th>Vehicle Model</th>\n",
       "      <th>Vehicle Year</th>\n",
       "      <th>Vehicle Type</th>\n",
       "    </tr>\n",
       "  </thead>\n",
       "  <tbody>\n",
       "    <tr>\n",
       "      <th>0</th>\n",
       "      <td>70 Lydia isle</td>\n",
       "      <td>Lake Conor</td>\n",
       "      <td>S71 7XZ</td>\n",
       "      <td>89</td>\n",
       "      <td>0.00</td>\n",
       "      <td>NaN</td>\n",
       "      <td>08/18</td>\n",
       "      <td>11/27</td>\n",
       "      <td>676373692463</td>\n",
       "      <td>875</td>\n",
       "      <td>...</td>\n",
       "      <td>Wilson</td>\n",
       "      <td>married or civil partner</td>\n",
       "      <td>7257</td>\n",
       "      <td>True</td>\n",
       "      <td>72838</td>\n",
       "      <td>Male</td>\n",
       "      <td>Hyundai</td>\n",
       "      <td>Bonneville</td>\n",
       "      <td>2009</td>\n",
       "      <td>Pickup</td>\n",
       "    </tr>\n",
       "    <tr>\n",
       "      <th>1</th>\n",
       "      <td>00 Wheeler wells</td>\n",
       "      <td>Chapmanton</td>\n",
       "      <td>L2 7BT</td>\n",
       "      <td>46</td>\n",
       "      <td>13.72</td>\n",
       "      <td>Begum-Williams</td>\n",
       "      <td>08/12</td>\n",
       "      <td>11/26</td>\n",
       "      <td>4529436854129855</td>\n",
       "      <td>583</td>\n",
       "      <td>...</td>\n",
       "      <td>Thomas</td>\n",
       "      <td>married or civil partner</td>\n",
       "      <td>0</td>\n",
       "      <td>False</td>\n",
       "      <td>54016</td>\n",
       "      <td>Male</td>\n",
       "      <td>Nissan</td>\n",
       "      <td>ATS</td>\n",
       "      <td>1996</td>\n",
       "      <td>Coupe</td>\n",
       "    </tr>\n",
       "    <tr>\n",
       "      <th>2</th>\n",
       "      <td>Studio 33K Joel walk</td>\n",
       "      <td>Randallborough</td>\n",
       "      <td>ME3N 1GH</td>\n",
       "      <td>22</td>\n",
       "      <td>16.02</td>\n",
       "      <td>Hill-Wright</td>\n",
       "      <td>11/19</td>\n",
       "      <td>07/27</td>\n",
       "      <td>4091726363083888495</td>\n",
       "      <td>422</td>\n",
       "      <td>...</td>\n",
       "      <td>Jones</td>\n",
       "      <td>married or civil partner</td>\n",
       "      <td>0</td>\n",
       "      <td>False</td>\n",
       "      <td>68049</td>\n",
       "      <td>Male</td>\n",
       "      <td>GMC</td>\n",
       "      <td>Achieva</td>\n",
       "      <td>2015</td>\n",
       "      <td>Convertible, Coupe</td>\n",
       "    </tr>\n",
       "    <tr>\n",
       "      <th>3</th>\n",
       "      <td>Studio 46S Bethany lights</td>\n",
       "      <td>East Reece</td>\n",
       "      <td>E10 9RJ</td>\n",
       "      <td>56</td>\n",
       "      <td>19.35</td>\n",
       "      <td>Green LLC</td>\n",
       "      <td>10/17</td>\n",
       "      <td>04/18</td>\n",
       "      <td>4671332769487632633</td>\n",
       "      <td>669</td>\n",
       "      <td>...</td>\n",
       "      <td>Shaw</td>\n",
       "      <td>married or civil partner</td>\n",
       "      <td>0</td>\n",
       "      <td>False</td>\n",
       "      <td>91337</td>\n",
       "      <td>Male</td>\n",
       "      <td>Scion</td>\n",
       "      <td>F150 SuperCrew Cab</td>\n",
       "      <td>1994</td>\n",
       "      <td>Pickup</td>\n",
       "    </tr>\n",
       "    <tr>\n",
       "      <th>4</th>\n",
       "      <td>Flat 3 Christine views</td>\n",
       "      <td>Fletcherstad</td>\n",
       "      <td>WS2 9SN</td>\n",
       "      <td>57</td>\n",
       "      <td>5.94</td>\n",
       "      <td>Hill, Evans and Harrison</td>\n",
       "      <td>04/19</td>\n",
       "      <td>11/27</td>\n",
       "      <td>2245094149128526</td>\n",
       "      <td>659</td>\n",
       "      <td>...</td>\n",
       "      <td>O'Brien</td>\n",
       "      <td>married or civil partner</td>\n",
       "      <td>0</td>\n",
       "      <td>False</td>\n",
       "      <td>18446</td>\n",
       "      <td>Female</td>\n",
       "      <td>Buick</td>\n",
       "      <td>Outback</td>\n",
       "      <td>2020</td>\n",
       "      <td>SUV</td>\n",
       "    </tr>\n",
       "  </tbody>\n",
       "</table>\n",
       "<p>5 rows × 23 columns</p>\n",
       "</div>"
      ],
      "text/plain": [
       "              Address Street    Address City Address Postcode  Age (Years)  \\\n",
       "0              70 Lydia isle      Lake Conor          S71 7XZ           89   \n",
       "1           00 Wheeler wells      Chapmanton           L2 7BT           46   \n",
       "2       Studio 33K Joel walk  Randallborough         ME3N 1GH           22   \n",
       "3  Studio 46S Bethany lights      East Reece          E10 9RJ           56   \n",
       "4     Flat 3 Christine views    Fletcherstad          WS2 9SN           57   \n",
       "\n",
       "   Distance Commuted to Work (Km)          Employer Company  \\\n",
       "0                            0.00                       NaN   \n",
       "1                           13.72            Begum-Williams   \n",
       "2                           16.02               Hill-Wright   \n",
       "3                           19.35                 Green LLC   \n",
       "4                            5.94  Hill, Evans and Harrison   \n",
       "\n",
       "  Credit Card Start Date Credit Card Expiry Date   Credit Card Number  \\\n",
       "0                  08/18                   11/27         676373692463   \n",
       "1                  08/12                   11/26     4529436854129855   \n",
       "2                  11/19                   07/27  4091726363083888495   \n",
       "3                  10/17                   04/18  4671332769487632633   \n",
       "4                  04/19                   11/27     2245094149128526   \n",
       "\n",
       "   Credit Card CVV  ...  Last Name            Marital Status  \\\n",
       "0              875  ...     Wilson  married or civil partner   \n",
       "1              583  ...     Thomas  married or civil partner   \n",
       "2              422  ...      Jones  married or civil partner   \n",
       "3              669  ...       Shaw  married or civil partner   \n",
       "4              659  ...    O'Brien  married or civil partner   \n",
       "\n",
       "  Yearly Pension (Dollar) Retired Yearly Salary (Dollar)     Sex  \\\n",
       "0                    7257    True                  72838    Male   \n",
       "1                       0   False                  54016    Male   \n",
       "2                       0   False                  68049    Male   \n",
       "3                       0   False                  91337    Male   \n",
       "4                       0   False                  18446  Female   \n",
       "\n",
       "   Vehicle Make       Vehicle Model Vehicle Year        Vehicle Type  \n",
       "0       Hyundai          Bonneville         2009              Pickup  \n",
       "1        Nissan                 ATS         1996               Coupe  \n",
       "2           GMC             Achieva         2015  Convertible, Coupe  \n",
       "3         Scion  F150 SuperCrew Cab         1994              Pickup  \n",
       "4         Buick             Outback         2020                 SUV  \n",
       "\n",
       "[5 rows x 23 columns]"
      ]
     },
     "execution_count": 2,
     "metadata": {},
     "output_type": "execute_result"
    }
   ],
   "source": [
    "data = pd.read_csv(\"acw_user_data.csv\")\n",
    "data.head()"
   ]
  },
  {
   "cell_type": "code",
   "execution_count": 4,
   "metadata": {},
   "outputs": [
    {
     "data": {
      "text/plain": [
       "57814.078"
      ]
     },
     "execution_count": 4,
     "metadata": {},
     "output_type": "execute_result"
    }
   ],
   "source": [
    "mean_salary = data[\"Yearly Salary (Dollar)\"].mean()\n",
    "mean_salary"
   ]
  },
  {
   "cell_type": "code",
   "execution_count": 6,
   "metadata": {},
   "outputs": [
    {
     "data": {
      "text/plain": [
       "54.0"
      ]
     },
     "execution_count": 6,
     "metadata": {},
     "output_type": "execute_result"
    }
   ],
   "source": [
    "median_age = data[\"Age (Years)\"].median()\n",
    "median_age"
   ]
  },
  {
   "cell_type": "markdown",
   "metadata": {},
   "source": [
    "## Univariate Plots"
   ]
  },
  {
   "cell_type": "code",
   "execution_count": 7,
   "metadata": {},
   "outputs": [
    {
     "name": "stdout",
     "output_type": "stream",
     "text": [
      "Number of bins required: 14\n"
     ]
    }
   ],
   "source": [
    "bin_width = 5\n",
    "min_age = data[\"Age (Years)\"].min()\n",
    "max_age = data[\"Age (Years)\"].max()\n",
    "num_bins = (int((max_age - min_age) / bin_width))\n",
    "print(f\"Number of bins required: {num_bins}\")"
   ]
  },
  {
   "cell_type": "code",
   "execution_count": 8,
   "metadata": {},
   "outputs": [
    {
     "data": {
      "text/plain": [
       "<Axes: xlabel='Age (Years)', ylabel='Count'>"
      ]
     },
     "execution_count": 8,
     "metadata": {},
     "output_type": "execute_result"
    },
    {
     "data": {
      "image/png": "[encoded data removed]",
      "text/plain": [
       "<Figure size 640x480 with 1 Axes>"
      ]
     },
     "metadata": {},
     "output_type": "display_data"
    }
   ],
   "source": [
    "sns.histplot(data,x=\"Age (Years)\", bins=num_bins)"
   ]
  }
 ],
 "metadata": {
  "kernelspec": {
   "display_name": "Python 3",
   "language": "python",
   "name": "python3"
  },
  "language_info": {
   "codemirror_mode": {
    "name": "ipython",
    "version": 3
   },
   "file_extension": ".py",
   "mimetype": "text/x-python",
   "name": "python",
   "nbconvert_exporter": "python",
   "pygments_lexer": "ipython3",
   "version": "3.12.8"
  }
 },
 "nbformat": 4,
 "nbformat_minor": 2
}
