{
 "cells": [
  {
   "cell_type": "code",
   "execution_count": 1,
   "metadata": {},
   "outputs": [],
   "source": [
    "import csv\n",
    "import json\n",
    "from datetime import datetime "
   ]
  },
  {
   "cell_type": "code",
   "execution_count": 2,
   "metadata": {},
   "outputs": [],
   "source": [
    "filename = \"acw_user_data.csv\""
   ]
  },
  {
   "cell_type": "code",
   "execution_count": 3,
   "metadata": {},
   "outputs": [],
   "source": [
    "headers = []\n",
    "rows = []\n",
    "with open(filename,'r') as csvfile:\n",
    "    reader = csv.reader(csvfile)\n",
    "    \n",
    "    headers = next(reader)\n",
    "    \n",
    "    for row in reader:\n",
    "        rows.append(row)"
   ]
  },
  {
   "cell_type": "code",
   "execution_count": 4,
   "metadata": {},
   "outputs": [
    {
     "data": {
      "text/plain": [
       "['Address Street',\n",
       " 'Address City',\n",
       " 'Address Postcode',\n",
       " 'Age (Years)',\n",
       " 'Distance Commuted to Work (Km)',\n",
       " 'Employer Company',\n",
       " 'Credit Card Start Date',\n",
       " 'Credit Card Expiry Date',\n",
       " 'Credit Card Number',\n",
       " 'Credit Card CVV',\n",
       " 'Dependants',\n",
       " 'First Name',\n",
       " 'Bank IBAN',\n",
       " 'Last Name',\n",
       " 'Marital Status',\n",
       " 'Yearly Pension (Dollar)',\n",
       " 'Retired',\n",
       " 'Yearly Salary (Dollar)',\n",
       " 'Sex',\n",
       " 'Vehicle Make',\n",
       " 'Vehicle Model',\n",
       " 'Vehicle Year',\n",
       " 'Vehicle Type']"
      ]
     },
     "execution_count": 4,
     "metadata": {},
     "output_type": "execute_result"
    }
   ],
   "source": [
    "headers"
   ]
  },
  {
   "cell_type": "code",
   "execution_count": 5,
   "metadata": {},
   "outputs": [
    {
     "name": "stdout",
     "output_type": "stream",
     "text": [
      "{'first_name': 'Kieran', 'last_name': 'Wilson', 'age': 89, 'sex': 'Male', 'distance_commuted_to_work_km': 0.0, 'employer_company': 'N/A', 'dependants': '3', 'marital_status': 'married or civil partner', 'yearly_pension_dollar': 7257, 'retired': True, 'yearly_salary_dollar': 72838, 'vehicle': {'make': 'Hyundai', 'model': 'Bonneville', 'year': 2009, 'type': 'Pickup'}, 'credit_card': {'start_date': '08/18', 'expiry_date': '11/27', 'number': '676373692463', 'cvv': 875, 'iban': 'GB62PQKB71416034141571'}, 'address': {'street': '70 Lydia isle', 'city': 'Lake Conor', 'postcode': 'S71 7XZ'}}\n",
      "{'first_name': 'Jonathan', 'last_name': 'Thomas', 'age': 46, 'sex': 'Male', 'distance_commuted_to_work_km': 13.72, 'employer_company': 'Begum-Williams', 'dependants': '1', 'marital_status': 'married or civil partner', 'yearly_pension_dollar': 0, 'retired': False, 'yearly_salary_dollar': 54016, 'vehicle': {'make': 'Nissan', 'model': 'ATS', 'year': 1996, 'type': 'Coupe'}, 'credit_card': {'start_date': '08/12', 'expiry_date': '11/26', 'number': '4529436854129855', 'cvv': 583, 'iban': 'GB37UMCO54540228728019'}, 'address': {'street': '00 Wheeler wells', 'city': 'Chapmanton', 'postcode': 'L2 7BT'}}\n",
      "{'first_name': 'Antony', 'last_name': 'Jones', 'age': 22, 'sex': 'Male', 'distance_commuted_to_work_km': 16.02, 'employer_company': 'Hill-Wright', 'dependants': '1', 'marital_status': 'married or civil partner', 'yearly_pension_dollar': 0, 'retired': False, 'yearly_salary_dollar': 68049, 'vehicle': {'make': 'GMC', 'model': 'Achieva', 'year': 2015, 'type': 'Convertible, Coupe'}, 'credit_card': {'start_date': '11/19', 'expiry_date': '07/27', 'number': '4091726363083888495', 'cvv': 422, 'iban': 'GB40CVUE84011545859591'}, 'address': {'street': 'Studio 33K Joel walk', 'city': 'Randallborough', 'postcode': 'ME3N 1GH'}}\n",
      "{'first_name': 'Henry', 'last_name': 'Shaw', 'age': 56, 'sex': 'Male', 'distance_commuted_to_work_km': 19.35, 'employer_company': 'Green LLC', 'dependants': '2', 'marital_status': 'married or civil partner', 'yearly_pension_dollar': 0, 'retired': False, 'yearly_salary_dollar': 91337, 'vehicle': {'make': 'Scion', 'model': 'F150 SuperCrew Cab', 'year': 1994, 'type': 'Pickup'}, 'credit_card': {'start_date': '10/17', 'expiry_date': '04/18', 'number': '4671332769487632633', 'cvv': 669, 'iban': 'GB40YPKK71613332239280'}, 'address': {'street': 'Studio 46S Bethany lights', 'city': 'East Reece', 'postcode': 'E10 9RJ'}}\n",
      "{'first_name': 'Jodie', 'last_name': \"O'Brien\", 'age': 57, 'sex': 'Female', 'distance_commuted_to_work_km': 5.94, 'employer_company': 'Hill, Evans and Harrison', 'dependants': '2', 'marital_status': 'married or civil partner', 'yearly_pension_dollar': 0, 'retired': False, 'yearly_salary_dollar': 18446, 'vehicle': {'make': 'Buick', 'model': 'Outback', 'year': 2020, 'type': 'SUV'}, 'credit_card': {'start_date': '04/19', 'expiry_date': '11/27', 'number': '2245094149128526', 'cvv': 659, 'iban': 'GB95WAYW31715898077181'}, 'address': {'street': 'Flat 3 Christine views', 'city': 'Fletcherstad', 'postcode': 'WS2 9SN'}}\n"
     ]
    }
   ],
   "source": [
    "data = []\n",
    "\n",
    "for values in rows:\n",
    "    row = dict(zip(headers, values))\n",
    "    person = {\n",
    "        \"first_name\": row[\"First Name\"],\n",
    "        \"last_name\": row[\"Last Name\"],\n",
    "        \"age\": int(row[\"Age (Years)\"]),\n",
    "        \"sex\": row[\"Sex\"],\n",
    "        \"distance_commuted_to_work_km\": float(row[\"Distance Commuted to Work (Km)\"]),\n",
    "        \"employer_company\": row[\"Employer Company\"],\n",
    "        \"dependants\": row[\"Dependants\"],\n",
    "        \"marital_status\": row[\"Marital Status\"],\n",
    "        \"yearly_pension_dollar\": int(row[\"Yearly Pension (Dollar)\"]),\n",
    "        \"retired\": row[\"Retired\"].strip().lower() == \"true\",\n",
    "        \"yearly_salary_dollar\": int(row[\"Yearly Salary (Dollar)\"]),\n",
    "        \"vehicle\": {\n",
    "            \"make\": row[\"Vehicle Make\"],\n",
    "            \"model\": row[\"Vehicle Model\"],\n",
    "            \"year\": int(row[\"Vehicle Year\"]),\n",
    "            \"type\": row[\"Vehicle Type\"]\n",
    "        },\n",
    "        \"credit_card\": {\n",
    "            \"start_date\": row[\"Credit Card Start Date\"],\n",
    "            \"expiry_date\": row[\"Credit Card Expiry Date\"],\n",
    "            \"number\": row[\"Credit Card Number\"],\n",
    "            \"cvv\": int(row[\"Credit Card CVV\"]),\n",
    "            \"iban\": row[\"Bank IBAN\"]\n",
    "        },\n",
    "        \"address\": {\n",
    "            \"street\": row[\"Address Street\"],\n",
    "            \"city\": row[\"Address City\"],\n",
    "            \"postcode\": row[\"Address Postcode\"]\n",
    "        },\n",
    "    }\n",
    "    data.append(person)\n",
    "# Print the first 5 entries to verify the data structure\n",
    "for person in data[:5]:\n",
    "    print(person)   "
   ]
  },
  {
   "cell_type": "code",
   "execution_count": 6,
   "metadata": {},
   "outputs": [
    {
     "name": "stdout",
     "output_type": "stream",
     "text": [
      "Problematic rows for dependants:[21, 109, 179, 205, 270, 272, 274, 358, 460, 468, 579, 636, 679, 725, 822, 865, 917, 931, 983]\n"
     ]
    }
   ],
   "source": [
    "rows_for_dependants = []\n",
    "for i,value in enumerate(data):\n",
    "    if value[\"dependants\"] == \" \" or value[\"dependants\"] == \"\":\n",
    "        rows_for_dependants.append(i)\n",
    "        \n",
    "print(f\"Problematic rows for dependants:{rows_for_dependants}\")    "
   ]
  },
  {
   "cell_type": "code",
   "execution_count": 7,
   "metadata": {},
   "outputs": [],
   "source": [
    "\n",
    "# Write the data to a JSON file\n",
    "with open(\"processed.json\", \"w\") as jsonfile:\n",
    "    json.dump(data, jsonfile, indent=4)"
   ]
  },
  {
   "cell_type": "code",
   "execution_count": 8,
   "metadata": {},
   "outputs": [],
   "source": [
    "retired = []\n",
    "employed = []\n",
    "\n",
    "for person in data:\n",
    "    if person[\"retired\"] == True:\n",
    "        retired.append(person)\n",
    "    else:\n",
    "        employed.append(person)"
   ]
  },
  {
   "cell_type": "code",
   "execution_count": 9,
   "metadata": {},
   "outputs": [],
   "source": [
    "with open(\"retired.json\", \"w\") as jsonfile:\n",
    "    json.dump(retired, jsonfile, indent=4)\n",
    "    \n",
    "with open(\"employed.json\", \"w\") as jsonfile:\n",
    "    json.dump(employed, jsonfile, indent=4)"
   ]
  },
  {
   "cell_type": "code",
   "execution_count": 10,
   "metadata": {},
   "outputs": [
    {
     "name": "stdout",
     "output_type": "stream",
     "text": [
      "14\n"
     ]
    }
   ],
   "source": [
    "start_date = data[1][\"credit_card\"][\"start_date\"]\n",
    "expiry_date = data[1][\"credit_card\"][\"expiry_date\"]\n",
    "\n",
    "start_date = datetime.strptime(start_date, \"%m/%y\")\n",
    "expiry_date = datetime.strptime(expiry_date, \"%m/%y\")\n",
    "\n",
    "diff_in_years = expiry_date.year - start_date.year \n",
    "print(diff_in_years)\n"
   ]
  },
  {
   "cell_type": "code",
   "execution_count": 11,
   "metadata": {},
   "outputs": [],
   "source": [
    "def remove_expired_credit_cards(data, years_threshold=10):\n",
    "   \n",
    "    removed_ccards = []\n",
    "\n",
    "    for index,person in enumerate(data):  \n",
    "        \n",
    "        start_date = datetime.strptime(person[\"credit_card\"][\"start_date\"], \"%m/%y\")\n",
    "        expiry_date = datetime.strptime(person[\"credit_card\"][\"expiry_date\"], \"%m/%y\")\n",
    "        diff_in_years = expiry_date.year - start_date.year\n",
    "\n",
    "        if diff_in_years > years_threshold:\n",
    "            removed_person = data.pop(index)\n",
    "            removed_ccards.append(removed_person)\n",
    "\n",
    "    return removed_ccards"
   ]
  },
  {
   "cell_type": "code",
   "execution_count": 12,
   "metadata": {},
   "outputs": [
    {
     "name": "stdout",
     "output_type": "stream",
     "text": [
      "Removed 176 expired credit cards.\n"
     ]
    }
   ],
   "source": [
    "removed_ccards = remove_expired_credit_cards(data, years_threshold=10)\n",
    "print(f\"Removed {len(removed_ccards)} expired credit cards.\")"
   ]
  },
  {
   "cell_type": "code",
   "execution_count": 13,
   "metadata": {},
   "outputs": [],
   "source": [
    "with open(\"removed_ccards.json\", \"w\") as jsonfile:\n",
    "    json.dump(removed_ccards, jsonfile, indent=4)"
   ]
  },
  {
   "cell_type": "code",
   "execution_count": 21,
   "metadata": {},
   "outputs": [],
   "source": [
    "processed_new = []\n",
    "with open(\"processed.json\",'r') as jsonfile:\n",
    "    processed_new = json.load(jsonfile)"
   ]
  },
  {
   "cell_type": "code",
   "execution_count": 24,
   "metadata": {},
   "outputs": [],
   "source": [
    "for index,person in enumerate(processed_new):\n",
    "    if(person[\"distance_commuted_to_work_km\"] <= 1):\n",
    "        person[\"Salary-Commute\"] = person[\"yearly_salary_dollar\"]\n",
    "    else:\n",
    "        person[\"Salary-Commute\"] = person[\"yearly_salary_dollar\"] / person[\"distance_commuted_to_work_km\"]"
   ]
  },
  {
   "cell_type": "code",
   "execution_count": 30,
   "metadata": {},
   "outputs": [],
   "source": [
    "processed_new = sorted(processed_new,key=lambda x:x[\"Salary-Commute\"])"
   ]
  },
  {
   "cell_type": "code",
   "execution_count": 31,
   "metadata": {},
   "outputs": [],
   "source": [
    "with open(\"commute.json\", \"w\") as jsonfile:\n",
    "    json.dump(processed_new, jsonfile, indent=4)"
   ]
  }
 ],
 "metadata": {
  "kernelspec": {
   "display_name": "Python 3",
   "language": "python",
   "name": "python3"
  },
  "language_info": {
   "codemirror_mode": {
    "name": "ipython",
    "version": 3
   },
   "file_extension": ".py",
   "mimetype": "text/x-python",
   "name": "python",
   "nbconvert_exporter": "python",
   "pygments_lexer": "ipython3",
   "version": "3.12.8"
  }
 },
 "nbformat": 4,
 "nbformat_minor": 2
}
